{
 "cells": [
  {
   "attachments": {},
   "cell_type": "markdown",
   "metadata": {},
   "source": [
    "Before plotting graphs to conduct my research, I will first do an analysis on all my datasets by displaying the number of amount columns and rows, analysing the different columns and rows as well as finding the number of unique values and potential qualities of the datasets."
   ]
  },
  {
   "cell_type": "code",
   "execution_count": 2,
   "metadata": {},
   "outputs": [],
   "source": [
    "import numpy as np"
   ]
  },
  {
   "cell_type": "code",
   "execution_count": 17,
   "metadata": {},
   "outputs": [
    {
     "name": "stdout",
     "output_type": "stream",
     "text": [
      "Resale Flat Prices Based On Registration Date From Jan 2017 Onwards\n",
      "There are 153006 rows and 11 columns\n"
     ]
    }
   ],
   "source": [
    "\n",
    "data = np.genfromtxt('./datasets/resale-flat-prices-based-on-registration-date-from-jan-2017-onwards.csv', dtype = ['U10', 'U20',  'U10',  'i8', 'U50', 'U10',  'i4',  'U20', 'i8',  'U20',  'i8'],delimiter = \",\", names = True)\n",
    "\n",
    "print(\"Resale Flat Prices Based On Registration Date From Jan 2017 Onwards\")\n",
    "rows = len(data[:])\n",
    "col = len(data[0])\n",
    "\n",
    "\n",
    "print(f\"There are {rows} rows and {col} columns\")"
   ]
  },
  {
   "cell_type": "code",
   "execution_count": 23,
   "metadata": {},
   "outputs": [
    {
     "name": "stdout",
     "output_type": "stream",
     "text": [
      "Number of Resale Apllications Registerd By Flat Type\n",
      "There are 384 rows and 3 columns\n"
     ]
    }
   ],
   "source": [
    "data = np.genfromtxt('./datasets/number-of-resale-applications-registered-by-flat-type.csv',dtype=['U8','U8','i8'],delimiter=',',names = True)\n",
    "\n",
    "print(\"Number of Resale Apllications Registerd By Flat Type\")\n",
    "\n",
    "rows = len(data[:])\n",
    "col = len(data[0])\n",
    "\n",
    "print(f\"There are {rows} rows and {col} columns\")"
   ]
  }
 ],
 "metadata": {
  "kernelspec": {
   "display_name": "base",
   "language": "python",
   "name": "python3"
  },
  "language_info": {
   "codemirror_mode": {
    "name": "ipython",
    "version": 3
   },
   "file_extension": ".py",
   "mimetype": "text/x-python",
   "name": "python",
   "nbconvert_exporter": "python",
   "pygments_lexer": "ipython3",
   "version": "3.10.9"
  },
  "orig_nbformat": 4
 },
 "nbformat": 4,
 "nbformat_minor": 2
}
