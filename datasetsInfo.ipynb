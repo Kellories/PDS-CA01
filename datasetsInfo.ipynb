{
 "cells": [
  {
   "attachments": {},
   "cell_type": "markdown",
   "metadata": {},
   "source": [
    "Before plotting graphs to conduct my research, I will first do an analysis on all my datasets by displaying the number of amount columns and rows, analysing the different columns and rows as well as finding the number of unique values and potential qualities of the datasets."
   ]
  },
  {
   "cell_type": "code",
   "execution_count": 2,
   "metadata": {},
   "outputs": [],
   "source": [
    "import numpy as np"
   ]
  },
  {
   "cell_type": "code",
   "execution_count": 17,
   "metadata": {},
   "outputs": [
    {
     "name": "stdout",
     "output_type": "stream",
     "text": [
      "Resale Flat Prices Based On Registration Date From Jan 2017 Onwards\n",
      "The columns present in this dataset are ('2017-01', 'ANG MO KIO', '2 ROOM', 406, 'ANG MO KIO AVE 10', '10 TO 12', 44, 'Improved', 1979, '61 years 04 months', 232000)\n",
      "There are 153006 rows and 11 columns\n",
      "['2017-01' '2017-02' '2017-03' '2017-04' '2017-05' '2017-06' '2017-07'\n",
      " '2017-08' '2017-09' '2017-10' '2017-11' '2017-12' '2018-01' '2018-02'\n",
      " '2018-03' '2018-04' '2018-05' '2018-06' '2018-07' '2018-08' '2018-09'\n",
      " '2018-10' '2018-11' '2018-12' '2019-01' '2019-02' '2019-03' '2019-04'\n",
      " '2019-05' '2019-06' '2019-07' '2019-08' '2019-09' '2019-10' '2019-11'\n",
      " '2019-12' '2020-01' '2020-02' '2020-03' '2020-04' '2020-05' '2020-06'\n",
      " '2020-07' '2020-08' '2020-09' '2020-10' '2020-11' '2020-12' '2021-01'\n",
      " '2021-02' '2021-03' '2021-04' '2021-05' '2021-06' '2021-07' '2021-08'\n",
      " '2021-09' '2021-10' '2021-11' '2021-12' '2022-01' '2022-02' '2022-03'\n",
      " '2022-04' '2022-05' '2022-06' '2022-07' '2022-08' '2022-09' '2022-10'\n",
      " '2022-11' '2022-12' '2023-01' '2023-02' '2023-03' '2023-04' '2023-05']\n",
      "From the above array, we can see that the Months date from January 2017 up till May 2023.\n",
      "There are 7 unique flat types\n",
      "There are 26 unique towns\n",
      "There are 17 unique storey ranges\n"
     ]
    }
   ],
   "source": [
    "\n",
    "data = np.genfromtxt('./datasets/resale-flat-prices-based-on-registration-date-from-jan-2017-onwards.csv', dtype = ['U10', 'U20',  'U10',  'i8', 'U50', 'U10',  'i4',  'U20', 'i8',  'U20',  'i8'],delimiter = \",\", names = True)\n",
    "\n",
    "print(\"Resale Flat Prices Based On Registration Date From Jan 2017 Onwards\")\n",
    "rows = len(data[:])\n",
    "col = len(data[0])\n",
    "print(f\"The columns present in this dataset are {data[0]}\")\n",
    "\n",
    "print(f\"There are {rows} rows and {col} columns\")\n",
    "\n",
    "unique_quarter = np.unique(data[\"month\"])\n",
    "unique_flats = len(np.unique(data[\"flat_type\"]))\n",
    "unique_town = len(np.unique(data['town']))\n",
    "unique_storey = len(np.unique(data['storey_range']))\n",
    "print(unique_quarter)\n",
    "print(\"From the above array, we can see that the Months date from January 2017 up till May 2023.\")\n",
    "print(f\"There are {unique_flats} unique flat types\")\n",
    "print(f\"There are {unique_town} unique towns\")\n",
    "print(f\"There are {unique_storey} unique storey ranges\")"
   ]
  },
  {
   "cell_type": "code",
   "execution_count": 4,
   "metadata": {},
   "outputs": [
    {
     "name": "stdout",
     "output_type": "stream",
     "text": [
      "Number of Resale Apllications Registerd By Flat Type\n",
      "There are 384 rows and 3 columns\n"
     ]
    }
   ],
   "source": [
    "data = np.genfromtxt('./datasets/number-of-resale-applications-registered-by-flat-type.csv',dtype=['U8','U8','i8'],delimiter=',',names = True)\n",
    "\n",
    "print(\"Number of Resale Apllications Registerd By Flat Type\")\n",
    "\n",
    "rows = len(data[:])\n",
    "col = len(data[0])\n",
    "\n",
    "print(f\"There are {rows} rows and {col} columns\")"
   ]
  },
  {
   "cell_type": "code",
   "execution_count": 5,
   "metadata": {},
   "outputs": [
    {
     "name": "stdout",
     "output_type": "stream",
     "text": [
      "Median Rent By Town And Flat Type\n",
      "There are 11121 rows and 4 columns\n"
     ]
    }
   ],
   "source": [
    "data = np.genfromtxt('./datasets/median-rent-by-town-and-flat-type.csv',  dtype = ['U32','U32','U32','i8'],delimiter = \",\", names=True)\n",
    "\n",
    "print(\"Median Rent By Town And Flat Type\")\n",
    "\n",
    "rows = len(data[:])\n",
    "col = len(data[0])\n",
    "\n",
    "print(f\"There are {rows} rows and {col} columns\")"
   ]
  },
  {
   "cell_type": "code",
   "execution_count": null,
   "metadata": {},
   "outputs": [],
   "source": []
  }
 ],
 "metadata": {
  "kernelspec": {
   "display_name": "base",
   "language": "python",
   "name": "python3"
  },
  "language_info": {
   "codemirror_mode": {
    "name": "ipython",
    "version": 3
   },
   "file_extension": ".py",
   "mimetype": "text/x-python",
   "name": "python",
   "nbconvert_exporter": "python",
   "pygments_lexer": "ipython3",
   "version": "3.10.9"
  },
  "orig_nbformat": 4
 },
 "nbformat": 4,
 "nbformat_minor": 2
}
